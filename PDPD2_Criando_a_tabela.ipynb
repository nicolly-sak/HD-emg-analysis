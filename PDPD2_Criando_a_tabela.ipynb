{
  "nbformat": 4,
  "nbformat_minor": 0,
  "metadata": {
    "colab": {
      "name": "PDPD2- Criando a tabela",
      "provenance": [],
      "collapsed_sections": [],
      "include_colab_link": true
    },
    "kernelspec": {
      "display_name": "Python 3",
      "name": "python3"
    },
    "language_info": {
      "name": "python"
    }
  },
  "cells": [
    {
      "cell_type": "markdown",
      "metadata": {
        "id": "view-in-github",
        "colab_type": "text"
      },
      "source": [
        "<a href=\"https://colab.research.google.com/github/nicolly-sak/HD-emg-analysis/blob/main/PDPD2_Criando_a_tabela.ipynb\" target=\"_parent\"><img src=\"https://colab.research.google.com/assets/colab-badge.svg\" alt=\"Open In Colab\"/></a>"
      ]
    },
    {
      "cell_type": "code",
      "metadata": {
        "colab": {
          "base_uri": "https://localhost:8080/"
        },
        "id": "ZEAt7XItIeTM",
        "outputId": "ee992fe7-87de-4be3-b485-3f8caf57aa8b"
      },
      "source": [
        "from google.colab import drive\n",
        "drive.mount('/content/drive')"
      ],
      "execution_count": null,
      "outputs": [
        {
          "output_type": "stream",
          "text": [
            "Mounted at /content/drive\n"
          ],
          "name": "stdout"
        }
      ]
    },
    {
      "cell_type": "code",
      "metadata": {
        "id": "8OxnXYLQixnB",
        "colab": {
          "base_uri": "https://localhost:8080/"
        },
        "outputId": "dbb20c77-4f50-4c35-c916-cdfcf5314ec0"
      },
      "source": [
        "import pandas as pd\n",
        "import numpy as np\n",
        "import matplotlib.pyplot as plt\n",
        "from scipy.io import loadmat\n",
        "import pickle \n",
        "from matplotlib import pylab\n",
        "from google.colab import widgets\n",
        "!pip install hickle\n",
        "import hickle\n",
        "\n",
        "!pip install --upgrade numpy\n",
        "import h5py\n",
        "!pip install --upgrade tbb"
      ],
      "execution_count": null,
      "outputs": [
        {
          "output_type": "stream",
          "text": [
            "Requirement already satisfied: hickle in /usr/local/lib/python3.7/dist-packages (4.0.4)\n",
            "Requirement already satisfied: six>=1.11.0 in /usr/local/lib/python3.7/dist-packages (from hickle) (1.15.0)\n",
            "Requirement already satisfied: dill>=0.3.0 in /usr/local/lib/python3.7/dist-packages (from hickle) (0.3.4)\n",
            "Requirement already satisfied: numpy>=1.8 in /usr/local/lib/python3.7/dist-packages (from hickle) (1.21.2)\n",
            "Requirement already satisfied: h5py<3.0.0,>=2.8.0 in /usr/local/lib/python3.7/dist-packages (from hickle) (2.10.0)\n",
            "Requirement already satisfied: numpy in /usr/local/lib/python3.7/dist-packages (1.21.2)\n",
            "Requirement already satisfied: tbb in /usr/local/lib/python3.7/dist-packages (2021.3.0)\n"
          ],
          "name": "stdout"
        }
      ]
    },
    {
      "cell_type": "code",
      "metadata": {
        "id": "uN_6xhwjW6Vh"
      },
      "source": [
        "dados01 = h5py.File(\"/content/drive/MyDrive/PDPD/Dicionário/dados01.h5\", \"r+\")\n",
        "dados02 = h5py.File(\"/content/drive/MyDrive/PDPD/Dicionário/dados02.h5\", \"r+\")\n",
        "dados03 = h5py.File(\"/content/drive/MyDrive/PDPD/Dicionário/dados03.h5\", \"r+\")\n",
        "dados04 = h5py.File(\"/content/drive/MyDrive/PDPD/Dicionário/dados04.h5\", \"r+\")\n",
        "dados05 = h5py.File(\"/content/drive/MyDrive/PDPD/Dicionário/dados05.h5\", \"r+\")\n",
        "dados06 = h5py.File(\"/content/drive/MyDrive/PDPD/Dicionário/dados06.h5\", \"r+\")\n",
        "dados07 = h5py.File(\"/content/drive/MyDrive/PDPD/Dicionário/dados07.h5\", \"r+\")\n",
        "dados08 = h5py.File(\"/content/drive/MyDrive/PDPD/Dicionário/dados08.h5\", \"r+\")\n",
        "dados09 = h5py.File(\"/content/drive/MyDrive/PDPD/Dicionário/dados09.h5\", \"r+\")\n",
        "dados10 = h5py.File(\"/content/drive/MyDrive/PDPD/Dicionário/dados10.h5\", \"r+\")\n",
        "dados11 = h5py.File(\"/content/drive/MyDrive/PDPD/Dicionário/dados11.h5\", \"r+\")\n",
        "dados12 = h5py.File(\"/content/drive/MyDrive/PDPD/Dicionário/dados12.h5\", \"r+\")\n",
        "dados13 = h5py.File(\"/content/drive/MyDrive/PDPD/Dicionário/dados13.h5\", \"r+\")\n",
        "dados14 = h5py.File(\"/content/drive/MyDrive/PDPD/Dicionário/dados14.h5\", \"r+\")\n",
        "dados15 = h5py.File(\"/content/drive/MyDrive/PDPD/Dicionário/dados15.h5\", \"r+\")\n",
        "dados16 = h5py.File(\"/content/drive/MyDrive/PDPD/Dicionário/dados16.h5\", \"r+\")\n",
        "dados17 = h5py.File(\"/content/drive/MyDrive/PDPD/Dicionário/dados17.h5\", \"r+\")\n",
        "dados18 = h5py.File(\"/content/drive/MyDrive/PDPD/Dicionário/dados18.h5\", \"r+\")\n",
        "dados19 = h5py.File(\"/content/drive/MyDrive/PDPD/Dicionário/dados19.h5\", \"r+\")\n",
        "dados20 = h5py.File(\"/content/drive/MyDrive/PDPD/Dicionário/dados20.h5\", \"r+\")\n",
        "dados21 = h5py.File(\"/content/drive/MyDrive/PDPD/Dicionário/dados21.h5\", \"r+\")\n",
        "dados22 = h5py.File(\"/content/drive/MyDrive/PDPD/Dicionário/dados22.h5\", \"r+\")\n",
        "dados23 = h5py.File(\"/content/drive/MyDrive/PDPD/Dicionário/dados23.h5\", \"r+\")\n",
        "dados24 = h5py.File(\"/content/drive/MyDrive/PDPD/Dicionário/dados24.h5\", \"r+\")\n",
        "dados25 = h5py.File(\"/content/drive/MyDrive/PDPD/Dicionário/dados25.h5\", \"r+\")\n",
        "demographicdata = hickle.load('/content/drive/MyDrive/PDPD/Dicionário/demographicdata.hkl')\n",
        "dir_list = hickle.load('/content/drive/MyDrive/PDPD/Dicionário/dir_list.hkl')"
      ],
      "execution_count": null,
      "outputs": []
    },
    {
      "cell_type": "code",
      "metadata": {
        "colab": {
          "base_uri": "https://localhost:8080/"
        },
        "id": "gAuNhTmEuLUP",
        "outputId": "a3b214c7-a8fa-4ba0-b0e3-6a0cc2e76769"
      },
      "source": [
        "dados01['/'].keys()"
      ],
      "execution_count": null,
      "outputs": [
        {
          "output_type": "execute_result",
          "data": {
            "text/plain": [
              "<KeysViewHDF5 ['0', '1', '10', '100', '101', '102', '103', '104', '105', '106', '107', '108', '109', '11', '110', '111', '112', '113', '114', '115', '116', '117', '118', '119', '12', '120', '121', '122', '123', '124', '125', '126', '127', '128', '129', '13', '130', '131', '132', '133', '134', '135', '136', '137', '138', '139', '14', '140', '141', '142', '143', '144', '145', '146', '147', '148', '149', '15', '150', '151', '152', '153', '154', '155', '156', '157', '158', '159', '16', '160', '161', '162', '163', '164', '165', '166', '167', '168', '169', '17', '170', '171', '172', '173', '174', '175', '176', '177', '178', '179', '18', '180', '181', '182', '183', '184', '185', '186', '187', '188', '189', '19', '190', '191', '192', '193', '194', '195', '196', '197', '198', '199', '2', '20', '200', '201', '202', '203', '204', '205', '206', '207', '208', '209', '21', '210', '211', '212', '213', '214', '215', '216', '217', '218', '219', '22', '220', '221', '222', '223', '224', '225', '226', '227', '228', '229', '23', '230', '231', '232', '233', '24', '25', '26', '27', '28', '29', '3', '30', '31', '32', '33', '34', '35', '36', '37', '38', '39', '4', '40', '41', '42', '43', '44', '45', '46', '47', '48', '49', '5', '50', '51', '52', '53', '54', '55', '56', '57', '58', '59', '6', '60', '61', '62', '63', '64', '65', '66', '67', '68', '69', '7', '70', '71', '72', '73', '74', '75', '76', '77', '78', '79', '8', '80', '81', '82', '83', '84', '85', '86', '87', '88', '89', '9', '90', '91', '92', '93', '94', '95', '96', '97', '98', '99']>"
            ]
          },
          "metadata": {
            "tags": []
          },
          "execution_count": 3
        }
      ]
    },
    {
      "cell_type": "code",
      "metadata": {
        "id": "9AJXnIpAYRFp"
      },
      "source": [
        "colunas= ['subj','session','speed','movement','caminho']\n",
        "df25= pd.DataFrame(columns=colunas)\n",
        "\n",
        "for i in range(len(dados25)):\n",
        "\n",
        "  if ((dados25['/' + str(i) + '/session'][0][0])==1):\n",
        "    df25.loc[i,'session']= 1\n",
        "  elif ((dados25['/' + str(i)+'/session'][0][0])==2) :\n",
        "    df25.loc[i,'session']= 2    \n",
        "  else :\n",
        "    df25.loc[i,'session']= 3\n",
        "\n",
        "  if ((dados25['/' + str(i) +'/speed'][0])=='slow') :\n",
        "    df25.loc[i,'speed']= 'slow'\n",
        "  else :\n",
        "    df25.loc[i,'speed']= 'fast'\n",
        "\n",
        "  df25.loc[i, 'subj']= dados25['/' + str(i) +'/subject'][0]\n",
        "\n",
        "  df25.loc[i, 'movement']= dados25['/' + str(i)+'/movement'][0]\n",
        "\n",
        "  df25.loc[i, 'caminho']= '-'\n",
        "\n",
        "#dados24 df24"
      ],
      "execution_count": null,
      "outputs": []
    },
    {
      "cell_type": "markdown",
      "metadata": {
        "id": "0_1e9gHVXO9T"
      },
      "source": [
        "erro no df02[47]"
      ]
    },
    {
      "cell_type": "code",
      "metadata": {
        "colab": {
          "base_uri": "https://localhost:8080/"
        },
        "id": "5Mt47Qp7UGd5",
        "outputId": "4bb55d6d-319a-45ca-ec76-d040a7111c53"
      },
      "source": [
        "#add as colunas abaixo em df\n",
        "\n",
        "df25[\"Age\"]= np.nan\n",
        "df25['Gender']= np.nan\n",
        "df25['Dominant Hand']= np.nan\n",
        "\n",
        "#juntando as informações da tabela demographicdata ao df\n",
        "\n",
        "for i in range(len(df25)):\n",
        "  df25['Age'][i]= demographicdata[0]['Age'][24]\n",
        "  df25['Gender'][i]= demographicdata[0]['Gender'][24]\n",
        "  df25['Dominant Hand'][i]= demographicdata[0]['Dominant Hand'][24]"
      ],
      "execution_count": null,
      "outputs": [
        {
          "output_type": "stream",
          "text": [
            "/usr/local/lib/python3.7/dist-packages/ipykernel_launcher.py:10: SettingWithCopyWarning: \n",
            "A value is trying to be set on a copy of a slice from a DataFrame\n",
            "\n",
            "See the caveats in the documentation: https://pandas.pydata.org/pandas-docs/stable/user_guide/indexing.html#returning-a-view-versus-a-copy\n",
            "  # Remove the CWD from sys.path while we load stuff.\n",
            "/usr/local/lib/python3.7/dist-packages/ipykernel_launcher.py:11: SettingWithCopyWarning: \n",
            "A value is trying to be set on a copy of a slice from a DataFrame\n",
            "\n",
            "See the caveats in the documentation: https://pandas.pydata.org/pandas-docs/stable/user_guide/indexing.html#returning-a-view-versus-a-copy\n",
            "  # This is added back by InteractiveShellApp.init_path()\n",
            "/usr/local/lib/python3.7/dist-packages/pandas/core/indexing.py:670: SettingWithCopyWarning: \n",
            "A value is trying to be set on a copy of a slice from a DataFrame\n",
            "\n",
            "See the caveats in the documentation: https://pandas.pydata.org/pandas-docs/stable/user_guide/indexing.html#returning-a-view-versus-a-copy\n",
            "  iloc._setitem_with_indexer(indexer, value)\n",
            "/usr/local/lib/python3.7/dist-packages/ipykernel_launcher.py:12: SettingWithCopyWarning: \n",
            "A value is trying to be set on a copy of a slice from a DataFrame\n",
            "\n",
            "See the caveats in the documentation: https://pandas.pydata.org/pandas-docs/stable/user_guide/indexing.html#returning-a-view-versus-a-copy\n",
            "  if sys.path[0] == '':\n"
          ],
          "name": "stderr"
        }
      ]
    },
    {
      "cell_type": "code",
      "metadata": {
        "colab": {
          "base_uri": "https://localhost:8080/",
          "height": 419
        },
        "id": "nkP3dkgTa6KO",
        "outputId": "e376ff66-2ddd-4883-8022-db46ba294278"
      },
      "source": [
        "df25"
      ],
      "execution_count": null,
      "outputs": [
        {
          "output_type": "execute_result",
          "data": {
            "text/html": [
              "<div>\n",
              "<style scoped>\n",
              "    .dataframe tbody tr th:only-of-type {\n",
              "        vertical-align: middle;\n",
              "    }\n",
              "\n",
              "    .dataframe tbody tr th {\n",
              "        vertical-align: top;\n",
              "    }\n",
              "\n",
              "    .dataframe thead th {\n",
              "        text-align: right;\n",
              "    }\n",
              "</style>\n",
              "<table border=\"1\" class=\"dataframe\">\n",
              "  <thead>\n",
              "    <tr style=\"text-align: right;\">\n",
              "      <th></th>\n",
              "      <th>subj</th>\n",
              "      <th>session</th>\n",
              "      <th>speed</th>\n",
              "      <th>movement</th>\n",
              "      <th>caminho</th>\n",
              "      <th>Age</th>\n",
              "      <th>Gender</th>\n",
              "      <th>Dominant Hand</th>\n",
              "    </tr>\n",
              "  </thead>\n",
              "  <tbody>\n",
              "    <tr>\n",
              "      <th>0</th>\n",
              "      <td>subj25</td>\n",
              "      <td>2</td>\n",
              "      <td>fast</td>\n",
              "      <td>fist</td>\n",
              "      <td>-</td>\n",
              "      <td>18.0</td>\n",
              "      <td>M</td>\n",
              "      <td>R</td>\n",
              "    </tr>\n",
              "    <tr>\n",
              "      <th>1</th>\n",
              "      <td>subj25</td>\n",
              "      <td>2</td>\n",
              "      <td>slow</td>\n",
              "      <td>middle</td>\n",
              "      <td>-</td>\n",
              "      <td>18.0</td>\n",
              "      <td>M</td>\n",
              "      <td>R</td>\n",
              "    </tr>\n",
              "    <tr>\n",
              "      <th>2</th>\n",
              "      <td>subj25</td>\n",
              "      <td>2</td>\n",
              "      <td>slow</td>\n",
              "      <td>index</td>\n",
              "      <td>-</td>\n",
              "      <td>18.0</td>\n",
              "      <td>M</td>\n",
              "      <td>R</td>\n",
              "    </tr>\n",
              "    <tr>\n",
              "      <th>3</th>\n",
              "      <td>subj25</td>\n",
              "      <td>3</td>\n",
              "      <td>fast</td>\n",
              "      <td>cilinder</td>\n",
              "      <td>-</td>\n",
              "      <td>18.0</td>\n",
              "      <td>M</td>\n",
              "      <td>R</td>\n",
              "    </tr>\n",
              "    <tr>\n",
              "      <th>4</th>\n",
              "      <td>subj25</td>\n",
              "      <td>3</td>\n",
              "      <td>slow</td>\n",
              "      <td>cilinder</td>\n",
              "      <td>-</td>\n",
              "      <td>18.0</td>\n",
              "      <td>M</td>\n",
              "      <td>R</td>\n",
              "    </tr>\n",
              "    <tr>\n",
              "      <th>...</th>\n",
              "      <td>...</td>\n",
              "      <td>...</td>\n",
              "      <td>...</td>\n",
              "      <td>...</td>\n",
              "      <td>...</td>\n",
              "      <td>...</td>\n",
              "      <td>...</td>\n",
              "      <td>...</td>\n",
              "    </tr>\n",
              "    <tr>\n",
              "      <th>229</th>\n",
              "      <td>subj25</td>\n",
              "      <td>3</td>\n",
              "      <td>slow</td>\n",
              "      <td>3digit</td>\n",
              "      <td>-</td>\n",
              "      <td>18.0</td>\n",
              "      <td>M</td>\n",
              "      <td>R</td>\n",
              "    </tr>\n",
              "    <tr>\n",
              "      <th>230</th>\n",
              "      <td>subj25</td>\n",
              "      <td>2</td>\n",
              "      <td>slow</td>\n",
              "      <td>thumbFlex</td>\n",
              "      <td>-</td>\n",
              "      <td>18.0</td>\n",
              "      <td>M</td>\n",
              "      <td>R</td>\n",
              "    </tr>\n",
              "    <tr>\n",
              "      <th>231</th>\n",
              "      <td>subj25</td>\n",
              "      <td>2</td>\n",
              "      <td>fast</td>\n",
              "      <td>thumbFlex</td>\n",
              "      <td>-</td>\n",
              "      <td>18.0</td>\n",
              "      <td>M</td>\n",
              "      <td>R</td>\n",
              "    </tr>\n",
              "    <tr>\n",
              "      <th>232</th>\n",
              "      <td>subj25</td>\n",
              "      <td>1</td>\n",
              "      <td>slow</td>\n",
              "      <td>thumbExt</td>\n",
              "      <td>-</td>\n",
              "      <td>18.0</td>\n",
              "      <td>M</td>\n",
              "      <td>R</td>\n",
              "    </tr>\n",
              "    <tr>\n",
              "      <th>233</th>\n",
              "      <td>subj25</td>\n",
              "      <td>3</td>\n",
              "      <td>fast</td>\n",
              "      <td>3digit</td>\n",
              "      <td>-</td>\n",
              "      <td>18.0</td>\n",
              "      <td>M</td>\n",
              "      <td>R</td>\n",
              "    </tr>\n",
              "  </tbody>\n",
              "</table>\n",
              "<p>234 rows × 8 columns</p>\n",
              "</div>"
            ],
            "text/plain": [
              "       subj session speed   movement caminho   Age Gender Dominant Hand\n",
              "0    subj25       2  fast       fist       -  18.0      M             R\n",
              "1    subj25       2  slow     middle       -  18.0      M             R\n",
              "2    subj25       2  slow      index       -  18.0      M             R\n",
              "3    subj25       3  fast   cilinder       -  18.0      M             R\n",
              "4    subj25       3  slow   cilinder       -  18.0      M             R\n",
              "..      ...     ...   ...        ...     ...   ...    ...           ...\n",
              "229  subj25       3  slow     3digit       -  18.0      M             R\n",
              "230  subj25       2  slow  thumbFlex       -  18.0      M             R\n",
              "231  subj25       2  fast  thumbFlex       -  18.0      M             R\n",
              "232  subj25       1  slow   thumbExt       -  18.0      M             R\n",
              "233  subj25       3  fast     3digit       -  18.0      M             R\n",
              "\n",
              "[234 rows x 8 columns]"
            ]
          },
          "metadata": {},
          "execution_count": 207
        }
      ]
    },
    {
      "cell_type": "code",
      "metadata": {
        "id": "jlyyz1mFYbMl"
      },
      "source": [
        "df_dict= dict()"
      ],
      "execution_count": null,
      "outputs": []
    },
    {
      "cell_type": "code",
      "metadata": {
        "id": "lWmTvIOzYVfq"
      },
      "source": [
        "df_dict[25]= df25"
      ],
      "execution_count": null,
      "outputs": []
    },
    {
      "cell_type": "code",
      "metadata": {
        "colab": {
          "base_uri": "https://localhost:8080/"
        },
        "id": "ZafA6nk7ZtC5",
        "outputId": "7fc0099f-1f9f-442b-8ce5-6f3e0d3d9dd4"
      },
      "source": [
        "hickle.dump(df_dict, '/content/drive/MyDrive/PDPD/Dicionário/df_dict.hkl', mode='w')"
      ],
      "execution_count": null,
      "outputs": [
        {
          "output_type": "stream",
          "text": [
            "/usr/local/lib/python3.7/dist-packages/hickle/loaders/load_builtins.py:110: SerializedWarning: 'DataFrame' type not understood, data has been serialized\n",
            "  % (py_obj.__class__.__name__, reason_str), SerializedWarning)\n"
          ],
          "name": "stderr"
        }
      ]
    },
    {
      "cell_type": "code",
      "metadata": {
        "colab": {
          "base_uri": "https://localhost:8080/"
        },
        "id": "j1LfEEZsYd_D",
        "outputId": "3380804f-8967-4602-f474-d61e18b7c4de"
      },
      "source": [
        "#add as colunas abaixo em df\n",
        "\n",
        "df02[\"Age\"]= np.nan\n",
        "df02['Gender']= np.nan\n",
        "df02['Dominant Hand']= np.nan\n",
        "\n",
        "#juntando as informações da tabela demographicdata ao df\n",
        "\n",
        "for i in range(len(df02)):\n",
        "  if dir_list[0][i].find('calibration_values') < 0 :\n",
        "    if df01[\"subj\"][i]=='subj01' :\n",
        "      df01['Age'][i]= demographicdata[0]['Age'][0]\n",
        "      df01['Gender'][i]= demographicdata[0]['Gender'][0]\n",
        "      df01['Dominant Hand'][i]= demographicdata[0]['Dominant Hand'][0]\n",
        "    elif df02[\"subj\"][i]=='subj02' :\n",
        "      df02['Age'][i]= demographicdata[0]['Age'][1]\n",
        "      df02['Gender'][i]= demographicdata[0]['Gender'][1]\n",
        "      df02['Dominant Hand'][i]= demographicdata[0]['Dominant Hand'][1]\n",
        "    elif df03[\"subj\"][i]=='subj03' :\n",
        "      df03['Age'][i]= demographicdata[0]['Age'][2]\n",
        "      df03['Gender'][i]= demographicdata[0]['Gender'][2]\n",
        "      df03['Dominant Hand'][i]= demographicdata[0]['Dominant Hand'][2]\n",
        "    elif df03[\"subj\"][i]=='subj04' :\n",
        "      df01['Age'][i]= demographicdata[0]['Age'][3]\n",
        "      df01['Gender'][i]= demographicdata[0]['Gender'][3]\n",
        "      df01['Dominant Hand'][i]= demographicdata[0]['Dominant Hand'][3]\n",
        "    elif df01[\"subj\"][i]=='subj05' :\n",
        "      df01['Age'][i]= demographicdata[0]['Age'][4]\n",
        "      df01['Gender'][i]= demographicdata[0]['Gender'][4]\n",
        "      df01['Dominant Hand'][i]= demographicdata[0]['Dominant Hand'][4]\n",
        "    elif df01[\"subj\"][i]=='subj06' :\n",
        "      df01['Age'][i]= demographicdata[0]['Age'][5]\n",
        "      df01['Gender'][i]= demographicdata[0]['Gender'][5]\n",
        "      df01['Dominant Hand'][i]= demographicdata[0]['Dominant Hand'][5]\n",
        "    elif df01[\"subj\"][i]=='subj07' :\n",
        "      df01['Age'][i]= demographicdata[0]['Age'][6]\n",
        "      df01['Gender'][i]= demographicdata[0]['Gender'][6]\n",
        "      df01['Dominant Hand'][i]= demographicdata[0]['Dominant Hand'][6]\n",
        "    elif df01[\"subj\"][i]=='subj08' :\n",
        "      df01['Age'][i]= demographicdata[0]['Age'][7]\n",
        "      df01['Gender'][i]= demographicdata[0]['Gender'][7]\n",
        "      df01['Dominant Hand'][i]= demographicdata[0]['Dominant Hand'][7]\n",
        "    elif df01[\"subj\"][i]=='subj09' :\n",
        "      df01['Age'][i]= demographicdata[0]['Age'][8]\n",
        "      df01['Gender'][i]= demographicdata[0]['Gender'][8]\n",
        "      df01['Dominant Hand'][i]= demographicdata[0]['Dominant Hand'][8]\n",
        "    elif df01[\"subj\"][i]=='subj10' :\n",
        "      df01['Age'][i]= demographicdata[0]['Age'][9]\n",
        "      df01['Gender'][i]= demographicdata[0]['Gender'][9]\n",
        "      df01['Dominant Hand'][i]= demographicdata[0]['Dominant Hand'][9]\n",
        "    elif df01[\"subj\"][i]=='subj11' :\n",
        "      df01['Age'][i]= demographicdata[0]['Age'][10]\n",
        "      df01['Gender'][i]= demographicdata[0]['Gender'][10]\n",
        "      df01['Dominant Hand'][i]= demographicdata[0]['Dominant Hand'][10]\n",
        "    elif df01[\"subj\"][i]=='subj12' :\n",
        "      df01['Age'][i]= demographicdata[0]['Age'][11]\n",
        "      df01['Gender'][i]= demographicdata[0]['Gender'][11]\n",
        "      df01['Dominant Hand'][i]= demographicdata[0]['Dominant Hand'][11]\n",
        "    elif df01[\"subj\"][i]=='subj13' :\n",
        "      df01['Age'][i]= demographicdata[0]['Age'][12]\n",
        "      df01['Gender'][i]= demographicdata[0]['Gender'][12]\n",
        "      df01['Dominant Hand'][i]= demographicdata[0]['Dominant Hand'][12]\n",
        "    elif df01[\"subj\"][i]=='subj14' :\n",
        "      df01['Age'][i]= demographicdata[0]['Age'][13]\n",
        "      df01['Gender'][i]= demographicdata[0]['Gender'][13]\n",
        "      df01['Dominant Hand'][i]= demographicdata[0]['Dominant Hand'][13]\n",
        "    elif df01[\"subj\"][i]=='subj15' :\n",
        "      df01['Age'][i]= demographicdata[0]['Age'][14]\n",
        "      df01['Gender'][i]= demographicdata[0]['Gender'][14]\n",
        "      df01['Dominant Hand'][i]= demographicdata[0]['Dominant Hand'][14]\n",
        "    elif df01[\"subj\"][i]=='subj16' :\n",
        "      df01['Age'][i]= demographicdata[0]['Age'][15]\n",
        "      df01['Gender'][i]= demographicdata[0]['Gender'][15]\n",
        "      df01['Dominant Hand'][i]= demographicdata[0]['Dominant Hand'][15]\n",
        "    elif df01[\"subj\"][i]=='subj17' :\n",
        "      df01['Age'][i]= demographicdata[0]['Age'][16]\n",
        "      df01['Gender'][i]= demographicdata[0]['Gender'][16]\n",
        "      df01['Dominant Hand'][i]= demographicdata[0]['Dominant Hand'][16]\n",
        "    elif df01[\"subj\"][i]=='subj18' :\n",
        "      df01['Age'][i]= demographicdata[0]['Age'][17]\n",
        "      df01['Gender'][i]= demographicdata[0]['Gender'][17]\n",
        "      df01['Dominant Hand'][i]= demographicdata[0]['Dominant Hand'][17]\n",
        "    elif df01[\"subj\"][i]=='subj19' :\n",
        "      df01['Age'][i]= demographicdata[0]['Age'][18]\n",
        "      df01['Gender'][i]= demographicdata[0]['Gender'][18]\n",
        "      df01['Dominant Hand'][i]= demographicdata[0]['Dominant Hand'][18]\n",
        "    elif df01[\"subj\"][i]== 'subj20' :\n",
        "      df01['Age'][i]= demographicdata[0]['Age'][19]\n",
        "      df01['Gender'][i]= demographicdata[0]['Gender'][19]\n",
        "      df01['Dominant Hand'][i]= demographicdata[0]['Dominant Hand'][19]\n",
        "    elif df01[\"subj\"][i]=='subj21' :\n",
        "      df01['Age'][i]= demographicdata[0]['Age'][20]\n",
        "      df01['Gender'][i]= demographicdata[0]['Gender'][20]\n",
        "      df01['Dominant Hand'][i]= demographicdata[0]['Dominant Hand'][20]\n",
        "    elif df01[\"subj\"][i]=='subj22' :\n",
        "      df01['Age'][i]= demographicdata[0]['Age'][21]\n",
        "      df01['Gender'][i]= demographicdata[0]['Gender'][21]\n",
        "      df01['Dominant Hand'][i]= demographicdata[0]['Dominant Hand'][21]\n",
        "    elif df01[\"subj\"][i]=='subj23' :\n",
        "      df01['Age'][i]= demographicdata[0]['Age'][22]\n",
        "      df01['Gender'][i]= demographicdata[0]['Gender'][22]\n",
        "      df01['Dominant Hand'][i]= demographicdata[0]['Dominant Hand'][22]\n",
        "    elif df01[\"subj\"][i]=='subj24' :\n",
        "      df01['Age'][i]= demographicdata[0]['Age'][23]\n",
        "      df01['Gender'][i]= demographicdata[0]['Gender'][23]\n",
        "      df01['Dominant Hand'][i]= demographicdata[0]['Dominant Hand'][23]\n",
        "    elif df01[\"subj\"][i]=='subj25' :\n",
        "      df01['Age'][i]= demographicdata[0]['Age'][24]\n",
        "      ddf01f['Gender'][i]= demographicdata[0]['Gender'][24]\n",
        "      df01['Dominant Hand'][i]= demographicdata[0]['Dominant Hand'][24]"
      ],
      "execution_count": null,
      "outputs": [
        {
          "output_type": "stream",
          "text": [
            "/usr/local/lib/python3.7/dist-packages/ipykernel_launcher.py:12: SettingWithCopyWarning: \n",
            "A value is trying to be set on a copy of a slice from a DataFrame\n",
            "\n",
            "See the caveats in the documentation: https://pandas.pydata.org/pandas-docs/stable/user_guide/indexing.html#returning-a-view-versus-a-copy\n",
            "  if sys.path[0] == '':\n",
            "/usr/local/lib/python3.7/dist-packages/ipykernel_launcher.py:13: SettingWithCopyWarning: \n",
            "A value is trying to be set on a copy of a slice from a DataFrame\n",
            "\n",
            "See the caveats in the documentation: https://pandas.pydata.org/pandas-docs/stable/user_guide/indexing.html#returning-a-view-versus-a-copy\n",
            "  del sys.path[0]\n",
            "/usr/local/lib/python3.7/dist-packages/ipykernel_launcher.py:14: SettingWithCopyWarning: \n",
            "A value is trying to be set on a copy of a slice from a DataFrame\n",
            "\n",
            "See the caveats in the documentation: https://pandas.pydata.org/pandas-docs/stable/user_guide/indexing.html#returning-a-view-versus-a-copy\n",
            "  \n"
          ],
          "name": "stderr"
        }
      ]
    }
  ]
}