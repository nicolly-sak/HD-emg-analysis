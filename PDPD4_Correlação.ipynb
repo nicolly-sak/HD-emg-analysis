{
  "nbformat": 4,
  "nbformat_minor": 0,
  "metadata": {
    "colab": {
      "name": "PDPD4- Correlação",
      "provenance": [],
      "collapsed_sections": [],
      "include_colab_link": true
    },
    "kernelspec": {
      "display_name": "Python 3",
      "name": "python3"
    },
    "language_info": {
      "name": "python"
    }
  },
  "cells": [
    {
      "cell_type": "markdown",
      "metadata": {
        "id": "view-in-github",
        "colab_type": "text"
      },
      "source": [
        "<a href=\"https://colab.research.google.com/github/nicolly-sak/HD-emg-analysis/blob/main/PDPD4_Correla%C3%A7%C3%A3o.ipynb\" target=\"_parent\"><img src=\"https://colab.research.google.com/assets/colab-badge.svg\" alt=\"Open In Colab\"/></a>"
      ]
    },
    {
      "cell_type": "code",
      "metadata": {
        "colab": {
          "base_uri": "https://localhost:8080/"
        },
        "id": "gmPXmgpm-MsC",
        "outputId": "301bd226-977b-4029-cdc8-4c6d3253688b"
      },
      "source": [
        "from google.colab import drive\n",
        "drive.mount('/content/drive')"
      ],
      "execution_count": null,
      "outputs": [
        {
          "output_type": "stream",
          "text": [
            "Mounted at /content/drive\n"
          ],
          "name": "stdout"
        }
      ]
    },
    {
      "cell_type": "code",
      "metadata": {
        "colab": {
          "base_uri": "https://localhost:8080/"
        },
        "id": "dI7urGfefjc1",
        "outputId": "4df1dc61-092e-4472-ca3a-607a7b7994d8"
      },
      "source": [
        "import pandas as pd\n",
        "import numpy as np\n",
        "import matplotlib.pyplot as plt\n",
        "from scipy.io import loadmat\n",
        "import pickle \n",
        "from matplotlib import pylab\n",
        "from google.colab import widgets\n",
        "import scipy.signal\n",
        "!pip install hickle\n",
        "import hickle\n",
        "!pip install --upgrade numpy\n",
        "import h5py\n",
        "from numba import jit\n",
        "import numba\n",
        "import time\n",
        "!pip install --upgrade tbb"
      ],
      "execution_count": null,
      "outputs": [
        {
          "output_type": "stream",
          "text": [
            "Requirement already satisfied: hickle in /usr/local/lib/python3.7/dist-packages (4.0.4)\n",
            "Requirement already satisfied: six>=1.11.0 in /usr/local/lib/python3.7/dist-packages (from hickle) (1.15.0)\n",
            "Requirement already satisfied: dill>=0.3.0 in /usr/local/lib/python3.7/dist-packages (from hickle) (0.3.4)\n",
            "Requirement already satisfied: h5py<3.0.0,>=2.8.0 in /usr/local/lib/python3.7/dist-packages (from hickle) (2.10.0)\n",
            "Requirement already satisfied: numpy>=1.8 in /usr/local/lib/python3.7/dist-packages (from hickle) (1.21.2)\n",
            "Requirement already satisfied: numpy in /usr/local/lib/python3.7/dist-packages (1.21.2)\n",
            "Requirement already satisfied: tbb in /usr/local/lib/python3.7/dist-packages (2021.3.0)\n"
          ],
          "name": "stdout"
        }
      ]
    },
    {
      "cell_type": "code",
      "metadata": {
        "id": "D3_Xhj8gPlvN"
      },
      "source": [
        "dir_list = hickle.load('/content/drive/MyDrive/PDPD/Dicionário/dir_list.hkl')"
      ],
      "execution_count": null,
      "outputs": []
    },
    {
      "cell_type": "code",
      "metadata": {
        "id": "iOAU3nRX-emw"
      },
      "source": [
        "dir_list = hickle.load('/content/drive/MyDrive/PDPD/Dicionário/dir_list.hkl')\n",
        "dados01 = h5py.File(\"/content/drive/MyDrive/PDPD/Dicionário/dados01.h5\", \"r+\")\n",
        "dados02 = h5py.File(\"/content/drive/MyDrive/PDPD/Dicionário/dados02.h5\", \"r+\")\n",
        "dados03 = h5py.File(\"/content/drive/MyDrive/PDPD/Dicionário/dados03.h5\", \"r+\")\n",
        "dados04 = h5py.File(\"/content/drive/MyDrive/PDPD/Dicionário/dados04.h5\", \"r+\")\n",
        "dados05 = h5py.File(\"/content/drive/MyDrive/PDPD/Dicionário/dados05.h5\", \"r+\")\n",
        "dados06 = h5py.File(\"/content/drive/MyDrive/PDPD/Dicionário/dados06.h5\", \"r+\")\n",
        "dados07 = h5py.File(\"/content/drive/MyDrive/PDPD/Dicionário/dados07.h5\", \"r+\")\n",
        "dados08 = h5py.File(\"/content/drive/MyDrive/PDPD/Dicionário/dados08.h5\", \"r+\")\n",
        "dados09 = h5py.File(\"/content/drive/MyDrive/PDPD/Dicionário/dados09.h5\", \"r+\")\n",
        "dados10 = h5py.File(\"/content/drive/MyDrive/PDPD/Dicionário/dados10.h5\", \"r+\")\n",
        "dados11 = h5py.File(\"/content/drive/MyDrive/PDPD/Dicionário/dados11.h5\", \"r+\")\n",
        "dados12 = h5py.File(\"/content/drive/MyDrive/PDPD/Dicionário/dados12.h5\", \"r+\")\n",
        "dados13 = h5py.File(\"/content/drive/MyDrive/PDPD/Dicionário/dados13.h5\", \"r+\")\n",
        "dados14 = h5py.File(\"/content/drive/MyDrive/PDPD/Dicionário/dados14.h5\", \"r+\")\n",
        "dados15 = h5py.File(\"/content/drive/MyDrive/PDPD/Dicionário/dados15.h5\", \"r+\")\n",
        "dados16 = h5py.File(\"/content/drive/MyDrive/PDPD/Dicionário/dados16.h5\", \"r+\")\n",
        "dados17 = h5py.File(\"/content/drive/MyDrive/PDPD/Dicionário/dados17.h5\", \"r+\")\n",
        "dados18 = h5py.File(\"/content/drive/MyDrive/PDPD/Dicionário/dados18.h5\", \"r+\")\n",
        "dados19 = h5py.File(\"/content/drive/MyDrive/PDPD/Dicionário/dados19.h5\", \"r+\")\n",
        "dados20 = h5py.File(\"/content/drive/MyDrive/PDPD/Dicionário/dados20.h5\", \"r+\")\n",
        "dados21 = h5py.File(\"/content/drive/MyDrive/PDPD/Dicionário/dados21.h5\", \"r+\")\n",
        "dados22 = h5py.File(\"/content/drive/MyDrive/PDPD/Dicionário/dados22.h5\", \"r+\")\n",
        "dados23 = h5py.File(\"/content/drive/MyDrive/PDPD/Dicionário/dados23.h5\", \"r+\")\n",
        "dados24 = h5py.File(\"/content/drive/MyDrive/PDPD/Dicionário/dados24.h5\", \"r+\")\n",
        "dados25 = h5py.File(\"/content/drive/MyDrive/PDPD/Dicionário/dados25.h5\", \"r+\")"
      ],
      "execution_count": null,
      "outputs": []
    },
    {
      "cell_type": "code",
      "metadata": {
        "id": "kzlk-seL1TmN"
      },
      "source": [
        "dados24 = h5py.File(\"/content/drive/MyDrive/PDPD/Dicionário/dados24.h5\", \"r+\")\n",
        "dados25 = h5py.File(\"/content/drive/MyDrive/PDPD/Dicionário/dados25.h5\", \"r+\")"
      ],
      "execution_count": null,
      "outputs": []
    },
    {
      "cell_type": "code",
      "metadata": {
        "id": "ZoS43_nHs_EF"
      },
      "source": [
        "tabelas_correlacao_dict = hickle.load('/content/drive/MyDrive/PDPD/Dicionário/tabelas_correlacao_dict.hkl')"
      ],
      "execution_count": null,
      "outputs": []
    },
    {
      "cell_type": "code",
      "metadata": {
        "colab": {
          "base_uri": "https://localhost:8080/",
          "height": 167
        },
        "id": "Bt_IwEpPD0yB",
        "outputId": "da4f8413-ad0d-4cd1-f12d-f0143d86817d"
      },
      "source": [
        "tabelas_correlacao_dict[24]"
      ],
      "execution_count": null,
      "outputs": [
        {
          "output_type": "error",
          "ename": "KeyError",
          "evalue": "ignored",
          "traceback": [
            "\u001b[0;31m---------------------------------------------------------------------------\u001b[0m",
            "\u001b[0;31mKeyError\u001b[0m                                  Traceback (most recent call last)",
            "\u001b[0;32m<ipython-input-8-96e96c142a93>\u001b[0m in \u001b[0;36m<module>\u001b[0;34m()\u001b[0m\n\u001b[0;32m----> 1\u001b[0;31m \u001b[0mtabelas_correlacao_dict\u001b[0m\u001b[0;34m[\u001b[0m\u001b[0;36m24\u001b[0m\u001b[0;34m]\u001b[0m\u001b[0;34m\u001b[0m\u001b[0;34m\u001b[0m\u001b[0m\n\u001b[0m",
            "\u001b[0;31mKeyError\u001b[0m: 24"
          ]
        }
      ]
    },
    {
      "cell_type": "code",
      "metadata": {
        "id": "AoBOUtJ3Cy1q"
      },
      "source": [
        "def make_combinations_1d(x,y):\n",
        "    len_x = x.shape[0]\n",
        "    len_y = y.shape[0]\n",
        "\n",
        "    if x.dtype == np.float64 or x.dtype == np.float32 or x.dtype == np.float16:\n",
        "      X = np.tile(x,(len(y),1)).astype(np.float64)\n",
        "      Y = np.tile(y, (1,len_x)).reshape((y.shape[0]*len_x,y.shape[1])).astype(np.float64)\n",
        "    else:\n",
        "      X = np.tile(x,(len(y),1))\n",
        "      Y = np.tile(y, (1,len_x)).reshape((y.shape[0]*len_x,y.shape[1]))\n",
        "\n",
        "    return X, Y"
      ],
      "execution_count": null,
      "outputs": []
    },
    {
      "cell_type": "code",
      "metadata": {
        "colab": {
          "base_uri": "https://localhost:8080/"
        },
        "id": "8KJeNNyWBYyB",
        "outputId": "7393b2f4-020c-4037-933d-a328b78b2db9"
      },
      "source": [
        "@jit(\"f8[:,:](f8[:,:], f8[:,:])\", nopython=True, parallel=True, fastmath=True)\n",
        "def compute_correlation(x,y):\n",
        "  c = np.zeros((x.shape[0], y.shape[1]-x.shape[1]))\n",
        "  N = x.shape[1]\n",
        "  for i in range(c.shape[1]-1):\n",
        "    c[:,i] = np.sum(x*y[:,i:i+N], axis=1)\n",
        "  c = c/N \n",
        "  return c\n",
        "\n",
        "\n",
        "def crosscorr2(x,y, lags_max=1000,  alpha=0.05):\n",
        "    '''\n",
        "     Computes the normalized cross-correlation (formula 5.3 from Billings, SA (2013)) between the signals x and y.\n",
        "     \n",
        "     written by: Renato Naville Watanabe \n",
        "     \n",
        "     [phi, lags, CB] = crosscorr(x,y, alpha)\n",
        "     \t\n",
        "     \n",
        "     Inputs:\n",
        "       \n",
        "       x and y: vector of np.float64s, column-vectors with the signals to compute the cross-correlation.\n",
        "     \n",
        "       alpha: np.float64, significance value of the confidence boundaries. Usually is used alpha = 0.05.\n",
        "     \n",
        "     \n",
        "     Outputs:\n",
        "     \n",
        "       phi: vector of np.float64s, the normalized crosscorrelation.\n",
        "     \n",
        "       lags: vector of integers, vector with the corresponding lags of the phi vector.\n",
        "     \n",
        "       CB: vector of 2 np.float64 elements, confidence boundaries to consider that the cross-correlation at a given value is zero.\n",
        "    '''\n",
        "    \n",
        "    \n",
        "    x = x - np.mean(x, axis=1, keepdims=True)\n",
        "    \n",
        "    # stdx = np.std(x, axis=1, keepdims=True)\n",
        "    # stdy = np.std(y, axis=1, keepdims=True)\n",
        "    y = y - np.mean(y, axis=1, keepdims=True)\n",
        "\n",
        "    y = np.hstack((np.zeros((y.shape[0], lags_max//2), dtype=y.dtype), y, np.zeros((y.shape[0], lags_max//2), dtype=y.dtype)))\n",
        "   \n",
        "    c = compute_correlation(x,y)\n",
        "    # c = c/(stdx*stdy+1e-6)\n",
        "    \n",
        "    N = c.shape[1]\n",
        "    \n",
        "    # # CB = np.array([-np.max(np.abs(phir)), np.max(np.abs(phir))])\n",
        "    lags = np.arange(N)\n",
        "    lags = lags - N//2\n",
        "    return c, lags"
      ],
      "execution_count": null,
      "outputs": [
        {
          "output_type": "stream",
          "text": [
            "/usr/local/lib/python3.7/dist-packages/numba/np/ufunc/parallel.py:363: NumbaWarning: The TBB threading layer requires TBB version 2019.5 or later i.e., TBB_INTERFACE_VERSION >= 11005. Found TBB_INTERFACE_VERSION = 9107. The TBB threading layer is disabled.\n",
            "  warnings.warn(problem)\n"
          ],
          "name": "stderr"
        }
      ]
    },
    {
      "cell_type": "code",
      "metadata": {
        "id": "HQDQGrQACo1D"
      },
      "source": [
        "#tabelas_correlacao_dict = dict()\n",
        "\n",
        "fs_glove = 256\n",
        "dt = 1/fs_glove\n",
        "\n",
        "\n",
        "start = time.time()\n",
        "\n",
        "\n",
        "def tabela_correlacao(n, dados) :\n",
        "\n",
        "  colunas = ['subj','movement','channels_emg','channels_glove','correlacao','session']\n",
        "  tabela_correlacaox = pd.DataFrame(columns=colunas)\n",
        "\n",
        "  for d in range(len(dados)):\n",
        "    if dir_list[0][d].find('calibration_values') < 0:    \n",
        "      emg_sd_decimated = scipy.signal.decimate(pd.DataFrame(np.abs(dados['/'+str(d)+'/emg'][()])).rolling(window= 205, min_periods= 0,\n",
        "                                                                                    center= True, axis=1).std().values, \n",
        "                                              8, n=None , ftype='iir', axis=1, zero_phase=True)\n",
        "      \n",
        "      glove_dict = dados['/'+str(d)+'/glove'][()]\n",
        "    \n",
        "      emg_sd_decimated,glove_dict = make_combinations_1d(emg_sd_decimated,glove_dict)\n",
        "      emg_channels, glove_channels = make_combinations_1d(dados['/'+str(d)+'/channels_emg'][()].reshape(-1,1),dados['/'+str(d)+'/channels_glove'][()].reshape(-1,1))\n",
        "      \n",
        "      corr, lags = crosscorr2(glove_dict, emg_sd_decimated, lags_max=256)\n",
        "      \n",
        "      \n",
        "      max_corr = lags[np.argmax(np.abs(corr), axis=1)]*dt\n",
        "      \n",
        "      new_tabela_correlacao= pd.DataFrame(columns=colunas)\n",
        "      new_tabela_correlacao['channels_emg'] = emg_channels.squeeze()\n",
        "      new_tabela_correlacao['channels_glove'] = glove_channels.squeeze()\n",
        "      new_tabela_correlacao['subj'] = dados['/'+str(d)+'/subject'][()][0]\n",
        "      new_tabela_correlacao['movement'] = dados['/'+str(d)+'/movement'][()][0]\n",
        "      new_tabela_correlacao['session'] = dados['/'+str(d)+'/session'][()][0][0]\n",
        "      new_tabela_correlacao['speed'] = dados['/'+str(d)+'/speed'][()][0]\n",
        "      new_tabela_correlacao['correlacao'] = max_corr\n",
        "\n",
        "      tabela_correlacaox = tabela_correlacaox.append(new_tabela_correlacao)\n",
        "  end = time.time()\n",
        "  print(\"Elapsed = %s\" % (end - start))\n",
        "\n",
        "  tabelas_correlacao_dict[n] = tabela_correlacaox\n",
        "    "
      ],
      "execution_count": null,
      "outputs": []
    },
    {
      "cell_type": "code",
      "metadata": {
        "colab": {
          "base_uri": "https://localhost:8080/"
        },
        "id": "6U6Dg3FkuCPT",
        "outputId": "7df51808-037a-47b6-960b-1fd32aebd555"
      },
      "source": [
        "tabela_correlacao(2, dados02)\n",
        "tabela_correlacao(3, dados03)"
      ],
      "execution_count": null,
      "outputs": [
        {
          "name": "stdout",
          "output_type": "stream",
          "text": [
            "Elapsed = 3712.2408394813538\n",
            "Elapsed = 7452.175440788269\n"
          ]
        }
      ]
    },
    {
      "cell_type": "code",
      "metadata": {
        "colab": {
          "base_uri": "https://localhost:8080/"
        },
        "id": "0aTXby10P9sp",
        "outputId": "1d9932a8-e966-4050-9a5c-05b91a0ba38c"
      },
      "source": [
        "tabela_correlacao(4, dados04)\n",
        "tabela_correlacao(5, dados05)"
      ],
      "execution_count": null,
      "outputs": [
        {
          "name": "stdout",
          "output_type": "stream",
          "text": [
            "Elapsed = 13487.355057239532\n",
            "Elapsed = 18545.76593708992\n"
          ]
        }
      ]
    },
    {
      "cell_type": "code",
      "metadata": {
        "colab": {
          "base_uri": "https://localhost:8080/"
        },
        "id": "uWC5No_x1ZGM",
        "outputId": "853304c8-8ba1-42ef-9abd-4fc7e8c386d1"
      },
      "source": [
        "tabela_correlacao(6, dados06)\n",
        "tabela_correlacao(7, dados07)"
      ],
      "execution_count": null,
      "outputs": [
        {
          "name": "stdout",
          "output_type": "stream",
          "text": [
            "Elapsed = 3644.266088962555\n",
            "Elapsed = 7788.981626987457\n"
          ]
        }
      ]
    },
    {
      "cell_type": "code",
      "metadata": {
        "colab": {
          "base_uri": "https://localhost:8080/"
        },
        "id": "MkA9HCpIPIC1",
        "outputId": "6b1ac381-4259-4eb0-fb1d-4dcf5665e39a"
      },
      "source": [
        "tabela_correlacao(8, dados08)\n",
        "tabela_correlacao(9, dados09)"
      ],
      "execution_count": null,
      "outputs": [
        {
          "name": "stdout",
          "output_type": "stream",
          "text": [
            "Elapsed = 3055.708456516266\n",
            "Elapsed = 6573.24555850029\n"
          ]
        }
      ]
    },
    {
      "cell_type": "code",
      "metadata": {
        "colab": {
          "base_uri": "https://localhost:8080/"
        },
        "id": "cwnGCjETs_C_",
        "outputId": "0d8b5025-20f2-4f36-c2a2-56e4735efc51"
      },
      "source": [
        "tabela_correlacao(10, dados10)\n",
        "tabela_correlacao(11, dados11)"
      ],
      "execution_count": null,
      "outputs": [
        {
          "output_type": "stream",
          "text": [
            "Elapsed = 2588.736430644989\n",
            "Elapsed = 5554.144231557846\n"
          ],
          "name": "stdout"
        }
      ]
    },
    {
      "cell_type": "code",
      "metadata": {
        "colab": {
          "base_uri": "https://localhost:8080/"
        },
        "id": "eP9Hz9W9aWoO",
        "outputId": "baa83b4c-35d2-4f29-8171-436333e0c0eb"
      },
      "source": [
        "tabela_correlacao(12, dados12)\n",
        "tabela_correlacao(13, dados13)"
      ],
      "execution_count": null,
      "outputs": [
        {
          "output_type": "stream",
          "text": [
            "Elapsed = 9645.682575941086\n",
            "Elapsed = 13701.768687963486\n"
          ],
          "name": "stdout"
        }
      ]
    },
    {
      "cell_type": "code",
      "metadata": {
        "colab": {
          "base_uri": "https://localhost:8080/"
        },
        "id": "PR5evGn9MNfv",
        "outputId": "40cf33b5-c5d2-4ba9-c948-82c6f97cc8ce"
      },
      "source": [
        "tabela_correlacao(14, dados14)\n",
        "tabela_correlacao(15, dados15)"
      ],
      "execution_count": null,
      "outputs": [
        {
          "output_type": "stream",
          "text": [
            "Elapsed = 2587.1750576496124\n",
            "Elapsed = 6040.453419208527\n"
          ],
          "name": "stdout"
        }
      ]
    },
    {
      "cell_type": "code",
      "metadata": {
        "colab": {
          "base_uri": "https://localhost:8080/"
        },
        "id": "by3iCRkEG-aB",
        "outputId": "65074d13-05a8-45d4-88f4-a398f003f1f4"
      },
      "source": [
        "tabela_correlacao(16, dados16)\n",
        "tabela_correlacao(17, dados17)"
      ],
      "execution_count": null,
      "outputs": [
        {
          "output_type": "stream",
          "text": [
            "Elapsed = 3785.253235578537\n",
            "Elapsed = 7827.74821972847\n"
          ],
          "name": "stdout"
        }
      ]
    },
    {
      "cell_type": "code",
      "metadata": {
        "colab": {
          "base_uri": "https://localhost:8080/"
        },
        "id": "hcEth8Xy9Mc_",
        "outputId": "78c8341e-8ab8-4158-ee0e-a58e9e502aba"
      },
      "source": [
        "tabela_correlacao(18, dados18)\n",
        "tabela_correlacao(19, dados19)"
      ],
      "execution_count": null,
      "outputs": [
        {
          "output_type": "stream",
          "text": [
            "Elapsed = 3608.9057829380035\n",
            "Elapsed = 8081.772054195404\n"
          ],
          "name": "stdout"
        }
      ]
    },
    {
      "cell_type": "code",
      "metadata": {
        "colab": {
          "base_uri": "https://localhost:8080/"
        },
        "id": "wYhRNS4WdfUj",
        "outputId": "133564e9-5ec5-44e1-f32a-44c18aecc4ee"
      },
      "source": [
        "tabela_correlacao(20, dados20)\n",
        "tabela_correlacao(21, dados21)"
      ],
      "execution_count": null,
      "outputs": [
        {
          "output_type": "stream",
          "text": [
            "Elapsed = 3474.7226202487946\n",
            "Elapsed = 7361.485599040985\n"
          ],
          "name": "stdout"
        }
      ]
    },
    {
      "cell_type": "code",
      "metadata": {
        "colab": {
          "base_uri": "https://localhost:8080/"
        },
        "id": "gw652JYBJ7rf",
        "outputId": "b0ea7f99-f9f3-4204-9645-a44228c24f90"
      },
      "source": [
        "tabela_correlacao(22, dados22)\n",
        "tabela_correlacao(23, dados23)"
      ],
      "execution_count": null,
      "outputs": [
        {
          "output_type": "stream",
          "text": [
            "Elapsed = 16984.90095257759\n",
            "Elapsed = 22279.102703094482\n"
          ],
          "name": "stdout"
        }
      ]
    },
    {
      "cell_type": "code",
      "metadata": {
        "colab": {
          "base_uri": "https://localhost:8080/"
        },
        "id": "pmEJIF-hr895",
        "outputId": "7493cb4c-0aa8-467d-d03e-d4c2a5bdf535"
      },
      "source": [
        "tabela_correlacao(24, dados24)\n",
        "tabela_correlacao(25, dados25)"
      ],
      "execution_count": null,
      "outputs": [
        {
          "output_type": "stream",
          "text": [
            "Elapsed = 2780.0059299468994\n",
            "Elapsed = 5836.647820234299\n"
          ],
          "name": "stdout"
        }
      ]
    },
    {
      "cell_type": "code",
      "metadata": {
        "id": "TRU_RFkhuET0",
        "colab": {
          "base_uri": "https://localhost:8080/"
        },
        "outputId": "2cfc68ad-6da5-4578-deb1-9e0136c55156"
      },
      "source": [
        "hickle.dump(tabelas_correlacao_dict, '/content/drive/MyDrive/PDPD/Dicionário/tabelas_correlacao_dict.hkl', mode='w')"
      ],
      "execution_count": null,
      "outputs": [
        {
          "output_type": "stream",
          "text": [
            "/usr/local/lib/python3.7/dist-packages/hickle/loaders/load_builtins.py:110: SerializedWarning: 'DataFrame' type not understood, data has been serialized\n",
            "  % (py_obj.__class__.__name__, reason_str), SerializedWarning)\n"
          ],
          "name": "stderr"
        }
      ]
    },
    {
      "cell_type": "code",
      "metadata": {
        "colab": {
          "base_uri": "https://localhost:8080/"
        },
        "id": "1Rozwf3ukN6B",
        "outputId": "312e4a5c-9f90-407e-b1f2-895d3a1fbe58"
      },
      "source": [
        " tabela_correlacao(1, dados01)\n",
        "tabela_correlacao(2, dados02)\n",
        "tabela_correlacao(3, dados03)\n",
        "tabela_correlacao(4, dados04)\n",
        "tabela_correlacao(5, dados05)\n",
        "tabela_correlacao(6, dados06)\n",
        "tabela_correlacao(7, dados07)\n",
        "tabela_correlacao(8, dados08)\n",
        "tabela_correlacao(9, dados09)\n",
        "tabela_correlacao(10, dados10)\n",
        "tabela_correlacao(11, dados11)\n",
        "tabela_correlacao(12, dados12)\n",
        "tabela_correlacao(13, dados13)\n",
        "tabela_correlacao(14, dados14)\n",
        "tabela_correlacao(15, dados15)\n",
        "tabela_correlacao(16, dados16)\n",
        "tabela_correlacao(17, dados17)\n",
        "tabela_correlacao(18, dados18)\n",
        "tabela_correlacao(19, dados19)\n",
        "tabela_correlacao(20, dados20)\n",
        "tabela_correlacao(21, dados21)\n",
        "tabela_correlacao(22, dados22)\n",
        "tabela_correlacao(23, dados23)\n",
        "tabela_correlacao(24, dados24)\n",
        "tabela_correlacao(25, dados25)"
      ],
      "execution_count": null,
      "outputs": [
        {
          "name": "stdout",
          "output_type": "stream",
          "text": [
            "Elapsed = 5099.683191776276\n",
            "Elapsed = 10252.30755162239\n",
            "Elapsed = 15687.039838552475\n"
          ]
        },
        {
          "name": "stderr",
          "output_type": "stream",
          "text": [
            "/usr/local/lib/python3.7/dist-packages/hickle/loaders/load_builtins.py:110: SerializedWarning: 'DataFrame' type not understood, data has been serialized\n",
            "  % (py_obj.__class__.__name__, reason_str), SerializedWarning)\n"
          ]
        },
        {
          "name": "stdout",
          "output_type": "stream",
          "text": [
            "Elapsed = 21142.966209173203\n"
          ]
        }
      ]
    },
    {
      "cell_type": "markdown",
      "metadata": {
        "id": "AV89XFw8eVBY"
      },
      "source": [
        "Hickle"
      ]
    },
    {
      "cell_type": "code",
      "metadata": {
        "colab": {
          "base_uri": "https://localhost:8080/",
          "height": 167
        },
        "id": "NkvkCsmUXrv5",
        "outputId": "3627537c-3f30-483a-e254-47be77a22905"
      },
      "source": [
        "hickle.dump(tabelas_correlacao_dict, '/content/drive/MyDrive/PDPD/Dicionário/tabelas_correlacao_dict.hkl', mode='w')"
      ],
      "execution_count": null,
      "outputs": [
        {
          "ename": "NameError",
          "evalue": "ignored",
          "output_type": "error",
          "traceback": [
            "\u001b[0;31m---------------------------------------------------------------------------\u001b[0m",
            "\u001b[0;31mNameError\u001b[0m                                 Traceback (most recent call last)",
            "\u001b[0;32m<ipython-input-1-e8cc4d7a3d0c>\u001b[0m in \u001b[0;36m<module>\u001b[0;34m()\u001b[0m\n\u001b[0;32m----> 1\u001b[0;31m \u001b[0mhickle\u001b[0m\u001b[0;34m.\u001b[0m\u001b[0mdump\u001b[0m\u001b[0;34m(\u001b[0m\u001b[0mtabelas_correlacao_dict\u001b[0m\u001b[0;34m,\u001b[0m \u001b[0;34m'/content/drive/MyDrive/PDPD/Dicionário/tabelas_correlacao_dict.hkl'\u001b[0m\u001b[0;34m,\u001b[0m \u001b[0mmode\u001b[0m\u001b[0;34m=\u001b[0m\u001b[0;34m'w'\u001b[0m\u001b[0;34m)\u001b[0m\u001b[0;34m\u001b[0m\u001b[0;34m\u001b[0m\u001b[0m\n\u001b[0m",
            "\u001b[0;31mNameError\u001b[0m: name 'hickle' is not defined"
          ]
        }
      ]
    },
    {
      "cell_type": "markdown",
      "metadata": {
        "id": "WVWMaB0TeaB5"
      },
      "source": [
        "h5"
      ]
    },
    {
      "cell_type": "code",
      "metadata": {
        "colab": {
          "base_uri": "https://localhost:8080/",
          "height": 799
        },
        "id": "-8oM-Gr_lZ-p",
        "outputId": "5b3b5ec4-eb70-4153-ea90-d672eb5f1ade"
      },
      "source": [
        "!pip install git+https://github.com/rnwatanabe/silx.git\n",
        "import silx.io.dictdump as dictdump\n",
        "\n",
        "create_ds_args = {'compression': \"gzip\",\n",
        "                   'shuffle': True,\n",
        "                   'fletcher32': True}\n",
        "\n",
        "dictdump.dicttoh5(tabela_correlacao, \"/content/drive/MyDrive/PDPD/Dicionário/tabela_correlacao.h5\", h5path=\"/\",\n",
        "          create_dataset_args=create_ds_args)"
      ],
      "execution_count": null,
      "outputs": [
        {
          "name": "stdout",
          "output_type": "stream",
          "text": [
            "Collecting git+https://github.com/rnwatanabe/silx.git\n",
            "  Cloning https://github.com/rnwatanabe/silx.git to /tmp/pip-req-build-_yelyjhc\n",
            "  Running command git clone -q https://github.com/rnwatanabe/silx.git /tmp/pip-req-build-_yelyjhc\n",
            "  Installing build dependencies ... \u001b[?25l\u001b[?25hdone\n",
            "  Getting requirements to build wheel ... \u001b[?25l\u001b[?25hdone\n",
            "    Preparing wheel metadata ... \u001b[?25l\u001b[?25hdone\n",
            "Collecting fabio>=0.9\n",
            "  Downloading fabio-0.12.0-cp37-cp37m-manylinux_2_17_x86_64.manylinux2014_x86_64.whl (3.5 MB)\n",
            "\u001b[K     |████████████████████████████████| 3.5 MB 8.0 MB/s \n",
            "\u001b[?25hRequirement already satisfied: setuptools in /usr/local/lib/python3.7/dist-packages (from silx==0.16.0a0) (57.2.0)\n",
            "Requirement already satisfied: h5py in /usr/local/lib/python3.7/dist-packages (from silx==0.16.0a0) (2.10.0)\n",
            "Requirement already satisfied: numpy>=1.21.1 in /usr/local/lib/python3.7/dist-packages (from silx==0.16.0a0) (1.21.1)\n",
            "Requirement already satisfied: six in /usr/local/lib/python3.7/dist-packages (from h5py->silx==0.16.0a0) (1.15.0)\n",
            "Building wheels for collected packages: silx\n",
            "  Building wheel for silx (PEP 517) ... \u001b[?25l\u001b[?25hdone\n",
            "  Created wheel for silx: filename=silx-0.16.0a0-cp37-cp37m-linux_x86_64.whl size=9877877 sha256=bd8a8d3d2917fa755207ef41602e452c341185dfd30f0510458de8d0f0267206\n",
            "  Stored in directory: /tmp/pip-ephem-wheel-cache-6p2emgt6/wheels/7e/59/e5/8cd0bdbe60c0e9ea6bbed3f66436e136c181f4105c4512ced6\n",
            "Successfully built silx\n",
            "Installing collected packages: fabio, silx\n",
            "Successfully installed fabio-0.12.0 silx-0.16.0a0\n"
          ]
        },
        {
          "ename": "TypeError",
          "evalue": "ignored",
          "output_type": "error",
          "traceback": [
            "\u001b[0;31m---------------------------------------------------------------------------\u001b[0m",
            "\u001b[0;31mTypeError\u001b[0m                                 Traceback (most recent call last)",
            "\u001b[0;32m<ipython-input-8-0657de528bf5>\u001b[0m in \u001b[0;36m<module>\u001b[0;34m()\u001b[0m\n\u001b[1;32m      7\u001b[0m \u001b[0;34m\u001b[0m\u001b[0m\n\u001b[1;32m      8\u001b[0m dictdump.dicttoh5(tabela_correlacao, \"/content/drive/MyDrive/PDPD/Dicionário/tabela_correlacao.h5\", h5path=\"/\",\n\u001b[0;32m----> 9\u001b[0;31m           create_dataset_args=create_ds_args)\n\u001b[0m",
            "\u001b[0;32m/usr/local/lib/python3.7/dist-packages/silx/io/dictdump.py\u001b[0m in \u001b[0;36mdicttoh5\u001b[0;34m(treedict, h5file, h5path, mode, overwrite_data, create_dataset_args, update_mode)\u001b[0m\n\u001b[1;32m    356\u001b[0m                     h5f.create_dataset(h5name,\n\u001b[1;32m    357\u001b[0m                                        \u001b[0mdata\u001b[0m\u001b[0;34m=\u001b[0m\u001b[0mdata\u001b[0m\u001b[0;34m,\u001b[0m\u001b[0;34m\u001b[0m\u001b[0;34m\u001b[0m\u001b[0m\n\u001b[0;32m--> 358\u001b[0;31m                                        **create_dataset_args)\n\u001b[0m\u001b[1;32m    359\u001b[0m                 \u001b[0;32mif\u001b[0m \u001b[0mattrs_backup\u001b[0m\u001b[0;34m:\u001b[0m\u001b[0;34m\u001b[0m\u001b[0;34m\u001b[0m\u001b[0m\n\u001b[1;32m    360\u001b[0m                     \u001b[0mh5f\u001b[0m\u001b[0;34m[\u001b[0m\u001b[0mh5name\u001b[0m\u001b[0;34m]\u001b[0m\u001b[0;34m.\u001b[0m\u001b[0mattrs\u001b[0m\u001b[0;34m.\u001b[0m\u001b[0mupdate\u001b[0m\u001b[0;34m(\u001b[0m\u001b[0mattrs_backup\u001b[0m\u001b[0;34m)\u001b[0m\u001b[0;34m\u001b[0m\u001b[0;34m\u001b[0m\u001b[0m\n",
            "\u001b[0;32m/usr/local/lib/python3.7/dist-packages/h5py/_hl/group.py\u001b[0m in \u001b[0;36mcreate_dataset\u001b[0;34m(self, name, shape, dtype, data, **kwds)\u001b[0m\n\u001b[1;32m    134\u001b[0m \u001b[0;34m\u001b[0m\u001b[0m\n\u001b[1;32m    135\u001b[0m         \u001b[0;32mwith\u001b[0m \u001b[0mphil\u001b[0m\u001b[0;34m:\u001b[0m\u001b[0;34m\u001b[0m\u001b[0;34m\u001b[0m\u001b[0m\n\u001b[0;32m--> 136\u001b[0;31m             \u001b[0mdsid\u001b[0m \u001b[0;34m=\u001b[0m \u001b[0mdataset\u001b[0m\u001b[0;34m.\u001b[0m\u001b[0mmake_new_dset\u001b[0m\u001b[0;34m(\u001b[0m\u001b[0mself\u001b[0m\u001b[0;34m,\u001b[0m \u001b[0mshape\u001b[0m\u001b[0;34m,\u001b[0m \u001b[0mdtype\u001b[0m\u001b[0;34m,\u001b[0m \u001b[0mdata\u001b[0m\u001b[0;34m,\u001b[0m \u001b[0;34m**\u001b[0m\u001b[0mkwds\u001b[0m\u001b[0;34m)\u001b[0m\u001b[0;34m\u001b[0m\u001b[0;34m\u001b[0m\u001b[0m\n\u001b[0m\u001b[1;32m    137\u001b[0m             \u001b[0mdset\u001b[0m \u001b[0;34m=\u001b[0m \u001b[0mdataset\u001b[0m\u001b[0;34m.\u001b[0m\u001b[0mDataset\u001b[0m\u001b[0;34m(\u001b[0m\u001b[0mdsid\u001b[0m\u001b[0;34m)\u001b[0m\u001b[0;34m\u001b[0m\u001b[0;34m\u001b[0m\u001b[0m\n\u001b[1;32m    138\u001b[0m             \u001b[0;32mif\u001b[0m \u001b[0mname\u001b[0m \u001b[0;32mis\u001b[0m \u001b[0;32mnot\u001b[0m \u001b[0;32mNone\u001b[0m\u001b[0;34m:\u001b[0m\u001b[0;34m\u001b[0m\u001b[0;34m\u001b[0m\u001b[0m\n",
            "\u001b[0;32m/usr/local/lib/python3.7/dist-packages/h5py/_hl/dataset.py\u001b[0m in \u001b[0;36mmake_new_dset\u001b[0;34m(parent, shape, dtype, data, chunks, compression, shuffle, fletcher32, maxshape, compression_opts, fillvalue, scaleoffset, track_times, external, track_order, dcpl)\u001b[0m\n\u001b[1;32m    116\u001b[0m         \u001b[0;32melse\u001b[0m\u001b[0;34m:\u001b[0m\u001b[0;34m\u001b[0m\u001b[0;34m\u001b[0m\u001b[0m\n\u001b[1;32m    117\u001b[0m             \u001b[0mdtype\u001b[0m \u001b[0;34m=\u001b[0m \u001b[0mnumpy\u001b[0m\u001b[0;34m.\u001b[0m\u001b[0mdtype\u001b[0m\u001b[0;34m(\u001b[0m\u001b[0mdtype\u001b[0m\u001b[0;34m)\u001b[0m\u001b[0;34m\u001b[0m\u001b[0;34m\u001b[0m\u001b[0m\n\u001b[0;32m--> 118\u001b[0;31m         \u001b[0mtid\u001b[0m \u001b[0;34m=\u001b[0m \u001b[0mh5t\u001b[0m\u001b[0;34m.\u001b[0m\u001b[0mpy_create\u001b[0m\u001b[0;34m(\u001b[0m\u001b[0mdtype\u001b[0m\u001b[0;34m,\u001b[0m \u001b[0mlogical\u001b[0m\u001b[0;34m=\u001b[0m\u001b[0;36m1\u001b[0m\u001b[0;34m)\u001b[0m\u001b[0;34m\u001b[0m\u001b[0;34m\u001b[0m\u001b[0m\n\u001b[0m\u001b[1;32m    119\u001b[0m \u001b[0;34m\u001b[0m\u001b[0m\n\u001b[1;32m    120\u001b[0m     \u001b[0;31m# Legacy\u001b[0m\u001b[0;34m\u001b[0m\u001b[0;34m\u001b[0m\u001b[0;34m\u001b[0m\u001b[0m\n",
            "\u001b[0;32mh5py/h5t.pyx\u001b[0m in \u001b[0;36mh5py.h5t.py_create\u001b[0;34m()\u001b[0m\n",
            "\u001b[0;32mh5py/h5t.pyx\u001b[0m in \u001b[0;36mh5py.h5t.py_create\u001b[0;34m()\u001b[0m\n",
            "\u001b[0;32mh5py/h5t.pyx\u001b[0m in \u001b[0;36mh5py.h5t.py_create\u001b[0;34m()\u001b[0m\n",
            "\u001b[0;31mTypeError\u001b[0m: Object dtype dtype('O') has no native HDF5 equivalent"
          ]
        }
      ]
    },
    {
      "cell_type": "markdown",
      "metadata": {
        "id": "tCDiK8a6XyGa"
      },
      "source": [
        "---------------------------------------------------------------------------------------------------------------"
      ]
    }
  ]
}